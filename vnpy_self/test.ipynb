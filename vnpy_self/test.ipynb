{
 "cells": [
  {
   "cell_type": "code",
   "execution_count": 1,
   "metadata": {},
   "outputs": [],
   "source": [
    "import pandas as pd\n",
    "import numpy as np"
   ]
  },
  {
   "cell_type": "code",
   "execution_count": 2,
   "metadata": {},
   "outputs": [],
   "source": [
    "from vnpy_portfoliostrategy.helperclass import *"
   ]
  },
  {
   "cell_type": "code",
   "execution_count": 61,
   "metadata": {},
   "outputs": [
    {
     "name": "stdout",
     "output_type": "stream",
     "text": [
      "Original pos_data:\n",
      "fu2405.SHFE    10\n",
      "fu2405.SHFE    -5\n",
      "fu2407.SHFE     0\n",
      "dtype: int64\n",
      "\n",
      "Original to_trade_df:\n",
      "        symbol target\n",
      "0  fu2405.SHFE     15\n",
      "1  fu2406.SHFE     -8\n",
      "2  fu2408.SHFE      3\n",
      "\n",
      "Final result (ans):\n",
      "              pos  target\n",
      "fu2405.SHFE  10.0    15.0\n",
      "fu2405.SHFE  -5.0    15.0\n",
      "fu2406.SHFE   0.0    -8.0\n",
      "fu2408.SHFE   0.0     3.0\n"
     ]
    }
   ],
   "source": [
    "# Create example pos_data (current positions)\n",
    "pos_data = pd.Series([10,-5,0], index = ['fu2405.SHFE','fu2405.SHFE','fu2407.SHFE'])\n",
    "\n",
    "# Create example to_trade_df (target positions)\n",
    "to_trade_df = pd.DataFrame({\n",
    "    'symbol': ['fu2405.SHFE', 'fu2406.SHFE', 'fu2408.SHFE'],  # Note: fu2408 is new position\n",
    "    'target': ['15', '-8', '3']  # Strings because that's how they come from DB split()\n",
    "})\n",
    "\n",
    "# Now let's run through the operations to see the result:\n",
    "print(\"Original pos_data:\")\n",
    "print(pos_data)\n",
    "print(\"\\nOriginal to_trade_df:\")\n",
    "print(to_trade_df)\n",
    "\n",
    "# Apply the operations from your code\n",
    "to_trade_df['target'] = pd.to_numeric(to_trade_df['target'])\n",
    "ans = pos_data.rename('pos').to_frame().join(to_trade_df.drop_duplicates().set_index('symbol'),how='outer')\n",
    "ans = ans.replace(0,np.nan).dropna(how='all').replace(np.nan,0)\n",
    "\n",
    "print(\"\\nFinal result (ans):\")\n",
    "print(ans)"
   ]
  },
  {
   "cell_type": "code",
   "execution_count": 73,
   "metadata": {},
   "outputs": [],
   "source": [
    "result = defaultdict(lambda: defaultdict(list))\n",
    "# Add values while preserving duplicates\n",
    "for index, row in ans.iterrows():\n",
    "    result['pos'][index].append(row['pos'])\n",
    "    result['target'][index].append(row['target']) if not row['target'] in result['target'][index] else None"
   ]
  },
  {
   "cell_type": "code",
   "execution_count": 79,
   "metadata": {},
   "outputs": [
    {
     "data": {
      "text/plain": [
       "{'pos': {'fu2405.SHFE': [10.0, -5.0],\n",
       "  'fu2406.SHFE': [0.0],\n",
       "  'fu2408.SHFE': [0.0]},\n",
       " 'target': {'fu2405.SHFE': [15.0],\n",
       "  'fu2406.SHFE': [-8.0],\n",
       "  'fu2408.SHFE': [3.0]}}"
      ]
     },
     "execution_count": 79,
     "metadata": {},
     "output_type": "execute_result"
    }
   ],
   "source": [
    "import json\n",
    "json.loads(json.dumps(result))\n"
   ]
  },
  {
   "cell_type": "code",
   "execution_count": 52,
   "metadata": {},
   "outputs": [
    {
     "data": {
      "text/plain": [
       "{'pos': {'fu2405.SHFE': <vnpy_portfoliostrategy.helperclass.PositionInfo at 0x27007ba6f80>,\n",
       "  'fu2406.SHFE': 0.0,\n",
       "  'fu2408.SHFE': 0.0},\n",
       " 'target': {'fu2405.SHFE': 15.0, 'fu2406.SHFE': -8.0, 'fu2408.SHFE': 3.0}}"
      ]
     },
     "execution_count": 52,
     "metadata": {},
     "output_type": "execute_result"
    }
   ],
   "source": [
    "ans"
   ]
  },
  {
   "cell_type": "code",
   "execution_count": 44,
   "metadata": {},
   "outputs": [
    {
     "data": {
      "text/plain": [
       "-5.0"
      ]
     },
     "execution_count": 44,
     "metadata": {},
     "output_type": "execute_result"
    }
   ],
   "source": [
    "ans['pos']['fu2405.SHFE']"
   ]
  },
  {
   "cell_type": "code",
   "execution_count": 43,
   "metadata": {},
   "outputs": [
    {
     "ename": "AttributeError",
     "evalue": "'float' object has no attribute 'values'",
     "output_type": "error",
     "traceback": [
      "\u001b[1;31m---------------------------------------------------------------------------\u001b[0m",
      "\u001b[1;31mAttributeError\u001b[0m                            Traceback (most recent call last)",
      "Cell \u001b[1;32mIn[43], line 1\u001b[0m\n\u001b[1;32m----> 1\u001b[0m \u001b[38;5;28msorted\u001b[39m(\u001b[43mans\u001b[49m\u001b[43m[\u001b[49m\u001b[38;5;124;43m'\u001b[39;49m\u001b[38;5;124;43mpos\u001b[39;49m\u001b[38;5;124;43m'\u001b[39;49m\u001b[43m]\u001b[49m\u001b[43m[\u001b[49m\u001b[38;5;124;43m'\u001b[39;49m\u001b[38;5;124;43mfu2405.SHFE\u001b[39;49m\u001b[38;5;124;43m'\u001b[39;49m\u001b[43m]\u001b[49m\u001b[38;5;241;43m.\u001b[39;49m\u001b[43mvalues\u001b[49m\u001b[38;5;241m.\u001b[39mreshape(\u001b[38;5;241m1\u001b[39m,\u001b[38;5;241m-\u001b[39m\u001b[38;5;241m1\u001b[39m)[\u001b[38;5;241m0\u001b[39m]\u001b[38;5;241m.\u001b[39mtolist())\n",
      "\u001b[1;31mAttributeError\u001b[0m: 'float' object has no attribute 'values'"
     ]
    }
   ],
   "source": [
    "sorted(ans['pos']['fu2405.SHFE'].values.reshape(1,-1)[0].tolist())"
   ]
  },
  {
   "cell_type": "code",
   "execution_count": 41,
   "metadata": {},
   "outputs": [
    {
     "data": {
      "text/plain": [
       "[0.0]"
      ]
     },
     "execution_count": 41,
     "metadata": {},
     "output_type": "execute_result"
    }
   ],
   "source": [
    "sorted(ans[['pos']].loc['fu2406.SHFE'].values.reshape(1,-1)[0].tolist())"
   ]
  },
  {
   "cell_type": "code",
   "execution_count": 34,
   "metadata": {},
   "outputs": [
    {
     "ename": "AttributeError",
     "evalue": "'numpy.ndarray' object has no attribute 'totuple'",
     "output_type": "error",
     "traceback": [
      "\u001b[1;31m---------------------------------------------------------------------------\u001b[0m",
      "\u001b[1;31mAttributeError\u001b[0m                            Traceback (most recent call last)",
      "Cell \u001b[1;32mIn[34], line 1\u001b[0m\n\u001b[1;32m----> 1\u001b[0m PositionInfo(\u001b[43mans\u001b[49m\u001b[43m[\u001b[49m\u001b[43m[\u001b[49m\u001b[38;5;124;43m'\u001b[39;49m\u001b[38;5;124;43mpos\u001b[39;49m\u001b[38;5;124;43m'\u001b[39;49m\u001b[43m]\u001b[49m\u001b[43m]\u001b[49m\u001b[38;5;241;43m.\u001b[39;49m\u001b[43mloc\u001b[49m\u001b[43m[\u001b[49m\u001b[38;5;124;43m'\u001b[39;49m\u001b[38;5;124;43mfu2406.SHFE\u001b[39;49m\u001b[38;5;124;43m'\u001b[39;49m\u001b[43m]\u001b[49m\u001b[38;5;241;43m.\u001b[39;49m\u001b[43mvalues\u001b[49m\u001b[38;5;241;43m.\u001b[39;49m\u001b[43mreshape\u001b[49m\u001b[43m(\u001b[49m\u001b[38;5;241;43m1\u001b[39;49m\u001b[43m,\u001b[49m\u001b[38;5;241;43m-\u001b[39;49m\u001b[38;5;241;43m1\u001b[39;49m\u001b[43m)\u001b[49m\u001b[43m[\u001b[49m\u001b[38;5;241;43m0\u001b[39;49m\u001b[43m]\u001b[49m\u001b[38;5;241;43m.\u001b[39;49m\u001b[43mtotuple\u001b[49m())\u001b[38;5;241m.\u001b[39mnet_pos()\n",
      "\u001b[1;31mAttributeError\u001b[0m: 'numpy.ndarray' object has no attribute 'totuple'"
     ]
    }
   ],
   "source": [
    "PositionInfo(ans[['pos']].loc['fu2406.SHFE'].values.reshape(1,-1)[0].totuple()).net_pos()"
   ]
  },
  {
   "cell_type": "code",
   "execution_count": null,
   "metadata": {},
   "outputs": [],
   "source": []
  },
  {
   "cell_type": "code",
   "execution_count": null,
   "metadata": {},
   "outputs": [],
   "source": []
  },
  {
   "cell_type": "code",
   "execution_count": 5,
   "metadata": {},
   "outputs": [
    {
     "data": {
      "text/plain": [
       "5"
      ]
     },
     "execution_count": 5,
     "metadata": {},
     "output_type": "execute_result"
    }
   ],
   "source": [
    "PositionInfo.from_long_short(10,5).net_pos()"
   ]
  },
  {
   "cell_type": "code",
   "execution_count": 13,
   "metadata": {},
   "outputs": [
    {
     "data": {
      "text/html": [
       "<div>\n",
       "<style scoped>\n",
       "    .dataframe tbody tr th:only-of-type {\n",
       "        vertical-align: middle;\n",
       "    }\n",
       "\n",
       "    .dataframe tbody tr th {\n",
       "        vertical-align: top;\n",
       "    }\n",
       "\n",
       "    .dataframe thead th {\n",
       "        text-align: right;\n",
       "    }\n",
       "</style>\n",
       "<table border=\"1\" class=\"dataframe\">\n",
       "  <thead>\n",
       "    <tr style=\"text-align: right;\">\n",
       "      <th></th>\n",
       "      <th>today</th>\n",
       "      <th>date</th>\n",
       "      <th>symbol</th>\n",
       "      <th>strategy</th>\n",
       "      <th>sc_symbol</th>\n",
       "    </tr>\n",
       "  </thead>\n",
       "  <tbody>\n",
       "    <tr>\n",
       "      <th>0</th>\n",
       "      <td>2024-12-18</td>\n",
       "      <td>2024-12-19</td>\n",
       "      <td>a2505.DCE,al2502.SHFE,ao2501.SHFE,AP505.CZCE,b...</td>\n",
       "      <td>strategy2</td>\n",
       "      <td>dom</td>\n",
       "    </tr>\n",
       "  </tbody>\n",
       "</table>\n",
       "</div>"
      ],
      "text/plain": [
       "        today        date                                             symbol  \\\n",
       "0  2024-12-18  2024-12-19  a2505.DCE,al2502.SHFE,ao2501.SHFE,AP505.CZCE,b...   \n",
       "\n",
       "    strategy sc_symbol  \n",
       "0  strategy2       dom  "
      ]
     },
     "execution_count": 13,
     "metadata": {},
     "output_type": "execute_result"
    }
   ],
   "source": [
    "trading_schedule"
   ]
  },
  {
   "cell_type": "code",
   "execution_count": 14,
   "metadata": {},
   "outputs": [
    {
     "data": {
      "text/html": [
       "<div>\n",
       "<style scoped>\n",
       "    .dataframe tbody tr th:only-of-type {\n",
       "        vertical-align: middle;\n",
       "    }\n",
       "\n",
       "    .dataframe tbody tr th {\n",
       "        vertical-align: top;\n",
       "    }\n",
       "\n",
       "    .dataframe thead th {\n",
       "        text-align: right;\n",
       "    }\n",
       "</style>\n",
       "<table border=\"1\" class=\"dataframe\">\n",
       "  <thead>\n",
       "    <tr style=\"text-align: right;\">\n",
       "      <th></th>\n",
       "      <th>symbol</th>\n",
       "      <th>trading_hours</th>\n",
       "      <th>timezone</th>\n",
       "    </tr>\n",
       "  </thead>\n",
       "  <tbody>\n",
       "    <tr>\n",
       "      <th>0</th>\n",
       "      <td>a.DCE</td>\n",
       "      <td>21:01-23:00,09:01-10:15,10:31-11:30,13:31-15:00</td>\n",
       "      <td>Asia/Shanghai</td>\n",
       "    </tr>\n",
       "    <tr>\n",
       "      <th>1</th>\n",
       "      <td>ag.SHFE</td>\n",
       "      <td>21:01-02:30,09:01-10:15,10:31-11:30,13:31-15:00</td>\n",
       "      <td>Asia/Shanghai</td>\n",
       "    </tr>\n",
       "    <tr>\n",
       "      <th>2</th>\n",
       "      <td>al.SHFE</td>\n",
       "      <td>21:01-01:00,09:01-10:15,10:31-11:30,13:31-15:00</td>\n",
       "      <td>Asia/Shanghai</td>\n",
       "    </tr>\n",
       "    <tr>\n",
       "      <th>3</th>\n",
       "      <td>ao.SHFE</td>\n",
       "      <td>21:01-01:00,09:01-10:15,10:31-11:30,13:31-15:00</td>\n",
       "      <td>Asia/Shanghai</td>\n",
       "    </tr>\n",
       "    <tr>\n",
       "      <th>4</th>\n",
       "      <td>AP.CZCE</td>\n",
       "      <td>09:01-10:15,10:31-11:30,13:31-15:00</td>\n",
       "      <td>Asia/Shanghai</td>\n",
       "    </tr>\n",
       "    <tr>\n",
       "      <th>...</th>\n",
       "      <td>...</td>\n",
       "      <td>...</td>\n",
       "      <td>...</td>\n",
       "    </tr>\n",
       "    <tr>\n",
       "      <th>76</th>\n",
       "      <td>WH.CZCE</td>\n",
       "      <td>09:01-10:15,10:31-11:30,13:31-15:00</td>\n",
       "      <td>Asia/Shanghai</td>\n",
       "    </tr>\n",
       "    <tr>\n",
       "      <th>77</th>\n",
       "      <td>wr.SHFE</td>\n",
       "      <td>09:01-10:15,10:31-11:30,13:31-15:00</td>\n",
       "      <td>Asia/Shanghai</td>\n",
       "    </tr>\n",
       "    <tr>\n",
       "      <th>78</th>\n",
       "      <td>y.DCE</td>\n",
       "      <td>21:01-23:00,09:01-10:15,10:31-11:30,13:31-15:00</td>\n",
       "      <td>Asia/Shanghai</td>\n",
       "    </tr>\n",
       "    <tr>\n",
       "      <th>79</th>\n",
       "      <td>ZC.CZCE</td>\n",
       "      <td>21:01-23:00,09:01-10:15,10:31-11:30,13:31-15:00</td>\n",
       "      <td>Asia/Shanghai</td>\n",
       "    </tr>\n",
       "    <tr>\n",
       "      <th>80</th>\n",
       "      <td>zn.SHFE</td>\n",
       "      <td>21:01-01:00,09:01-10:15,10:31-11:30,13:31-15:00</td>\n",
       "      <td>Asia/Shanghai</td>\n",
       "    </tr>\n",
       "  </tbody>\n",
       "</table>\n",
       "<p>81 rows × 3 columns</p>\n",
       "</div>"
      ],
      "text/plain": [
       "     symbol                                    trading_hours       timezone\n",
       "0     a.DCE  21:01-23:00,09:01-10:15,10:31-11:30,13:31-15:00  Asia/Shanghai\n",
       "1   ag.SHFE  21:01-02:30,09:01-10:15,10:31-11:30,13:31-15:00  Asia/Shanghai\n",
       "2   al.SHFE  21:01-01:00,09:01-10:15,10:31-11:30,13:31-15:00  Asia/Shanghai\n",
       "3   ao.SHFE  21:01-01:00,09:01-10:15,10:31-11:30,13:31-15:00  Asia/Shanghai\n",
       "4   AP.CZCE              09:01-10:15,10:31-11:30,13:31-15:00  Asia/Shanghai\n",
       "..      ...                                              ...            ...\n",
       "76  WH.CZCE              09:01-10:15,10:31-11:30,13:31-15:00  Asia/Shanghai\n",
       "77  wr.SHFE              09:01-10:15,10:31-11:30,13:31-15:00  Asia/Shanghai\n",
       "78    y.DCE  21:01-23:00,09:01-10:15,10:31-11:30,13:31-15:00  Asia/Shanghai\n",
       "79  ZC.CZCE  21:01-23:00,09:01-10:15,10:31-11:30,13:31-15:00  Asia/Shanghai\n",
       "80  zn.SHFE  21:01-01:00,09:01-10:15,10:31-11:30,13:31-15:00  Asia/Shanghai\n",
       "\n",
       "[81 rows x 3 columns]"
      ]
     },
     "execution_count": 14,
     "metadata": {},
     "output_type": "execute_result"
    }
   ],
   "source": [
    "trading_hours"
   ]
  },
  {
   "cell_type": "code",
   "execution_count": 12,
   "metadata": {},
   "outputs": [
    {
     "data": {
      "text/html": [
       "<div>\n",
       "<style scoped>\n",
       "    .dataframe tbody tr th:only-of-type {\n",
       "        vertical-align: middle;\n",
       "    }\n",
       "\n",
       "    .dataframe tbody tr th {\n",
       "        vertical-align: top;\n",
       "    }\n",
       "\n",
       "    .dataframe thead th {\n",
       "        text-align: right;\n",
       "    }\n",
       "</style>\n",
       "<table border=\"1\" class=\"dataframe\">\n",
       "  <thead>\n",
       "    <tr style=\"text-align: right;\">\n",
       "      <th></th>\n",
       "      <th>symbol</th>\n",
       "      <th>target</th>\n",
       "    </tr>\n",
       "  </thead>\n",
       "  <tbody>\n",
       "    <tr>\n",
       "      <th>0</th>\n",
       "      <td>A</td>\n",
       "      <td>0</td>\n",
       "    </tr>\n",
       "    <tr>\n",
       "      <th>1</th>\n",
       "      <td>AL</td>\n",
       "      <td>-2</td>\n",
       "    </tr>\n",
       "    <tr>\n",
       "      <th>2</th>\n",
       "      <td>AO</td>\n",
       "      <td>0</td>\n",
       "    </tr>\n",
       "    <tr>\n",
       "      <th>3</th>\n",
       "      <td>AP</td>\n",
       "      <td>0</td>\n",
       "    </tr>\n",
       "    <tr>\n",
       "      <th>4</th>\n",
       "      <td>B</td>\n",
       "      <td>0</td>\n",
       "    </tr>\n",
       "    <tr>\n",
       "      <th>5</th>\n",
       "      <td>BU</td>\n",
       "      <td>0</td>\n",
       "    </tr>\n",
       "    <tr>\n",
       "      <th>6</th>\n",
       "      <td>C</td>\n",
       "      <td>0</td>\n",
       "    </tr>\n",
       "    <tr>\n",
       "      <th>7</th>\n",
       "      <td>CF</td>\n",
       "      <td>0</td>\n",
       "    </tr>\n",
       "    <tr>\n",
       "      <th>8</th>\n",
       "      <td>CS</td>\n",
       "      <td>0</td>\n",
       "    </tr>\n",
       "    <tr>\n",
       "      <th>9</th>\n",
       "      <td>CY</td>\n",
       "      <td>0</td>\n",
       "    </tr>\n",
       "    <tr>\n",
       "      <th>10</th>\n",
       "      <td>EB</td>\n",
       "      <td>0</td>\n",
       "    </tr>\n",
       "    <tr>\n",
       "      <th>11</th>\n",
       "      <td>EG</td>\n",
       "      <td>0</td>\n",
       "    </tr>\n",
       "    <tr>\n",
       "      <th>12</th>\n",
       "      <td>FG</td>\n",
       "      <td>0</td>\n",
       "    </tr>\n",
       "    <tr>\n",
       "      <th>13</th>\n",
       "      <td>FU</td>\n",
       "      <td>0</td>\n",
       "    </tr>\n",
       "    <tr>\n",
       "      <th>14</th>\n",
       "      <td>HC</td>\n",
       "      <td>1</td>\n",
       "    </tr>\n",
       "    <tr>\n",
       "      <th>15</th>\n",
       "      <td>I</td>\n",
       "      <td>0</td>\n",
       "    </tr>\n",
       "    <tr>\n",
       "      <th>16</th>\n",
       "      <td>J</td>\n",
       "      <td>1</td>\n",
       "    </tr>\n",
       "    <tr>\n",
       "      <th>17</th>\n",
       "      <td>JD</td>\n",
       "      <td>0</td>\n",
       "    </tr>\n",
       "    <tr>\n",
       "      <th>18</th>\n",
       "      <td>JM</td>\n",
       "      <td>-3</td>\n",
       "    </tr>\n",
       "    <tr>\n",
       "      <th>19</th>\n",
       "      <td>L</td>\n",
       "      <td>0</td>\n",
       "    </tr>\n",
       "    <tr>\n",
       "      <th>20</th>\n",
       "      <td>LG</td>\n",
       "      <td>0</td>\n",
       "    </tr>\n",
       "    <tr>\n",
       "      <th>21</th>\n",
       "      <td>LH</td>\n",
       "      <td>0</td>\n",
       "    </tr>\n",
       "    <tr>\n",
       "      <th>22</th>\n",
       "      <td>LU</td>\n",
       "      <td>0</td>\n",
       "    </tr>\n",
       "    <tr>\n",
       "      <th>23</th>\n",
       "      <td>M</td>\n",
       "      <td>0</td>\n",
       "    </tr>\n",
       "    <tr>\n",
       "      <th>24</th>\n",
       "      <td>MA</td>\n",
       "      <td>0</td>\n",
       "    </tr>\n",
       "    <tr>\n",
       "      <th>25</th>\n",
       "      <td>NI</td>\n",
       "      <td>-1</td>\n",
       "    </tr>\n",
       "    <tr>\n",
       "      <th>26</th>\n",
       "      <td>OI</td>\n",
       "      <td>0</td>\n",
       "    </tr>\n",
       "    <tr>\n",
       "      <th>27</th>\n",
       "      <td>P</td>\n",
       "      <td>0</td>\n",
       "    </tr>\n",
       "    <tr>\n",
       "      <th>28</th>\n",
       "      <td>PF</td>\n",
       "      <td>0</td>\n",
       "    </tr>\n",
       "    <tr>\n",
       "      <th>29</th>\n",
       "      <td>PG</td>\n",
       "      <td>0</td>\n",
       "    </tr>\n",
       "    <tr>\n",
       "      <th>30</th>\n",
       "      <td>PK</td>\n",
       "      <td>0</td>\n",
       "    </tr>\n",
       "    <tr>\n",
       "      <th>31</th>\n",
       "      <td>PP</td>\n",
       "      <td>0</td>\n",
       "    </tr>\n",
       "    <tr>\n",
       "      <th>32</th>\n",
       "      <td>PR</td>\n",
       "      <td>0</td>\n",
       "    </tr>\n",
       "    <tr>\n",
       "      <th>33</th>\n",
       "      <td>PX</td>\n",
       "      <td>0</td>\n",
       "    </tr>\n",
       "    <tr>\n",
       "      <th>34</th>\n",
       "      <td>RB</td>\n",
       "      <td>-6</td>\n",
       "    </tr>\n",
       "    <tr>\n",
       "      <th>35</th>\n",
       "      <td>RM</td>\n",
       "      <td>0</td>\n",
       "    </tr>\n",
       "    <tr>\n",
       "      <th>36</th>\n",
       "      <td>RU</td>\n",
       "      <td>0</td>\n",
       "    </tr>\n",
       "    <tr>\n",
       "      <th>37</th>\n",
       "      <td>SA</td>\n",
       "      <td>0</td>\n",
       "    </tr>\n",
       "    <tr>\n",
       "      <th>38</th>\n",
       "      <td>SF</td>\n",
       "      <td>0</td>\n",
       "    </tr>\n",
       "    <tr>\n",
       "      <th>39</th>\n",
       "      <td>SM</td>\n",
       "      <td>0</td>\n",
       "    </tr>\n",
       "    <tr>\n",
       "      <th>40</th>\n",
       "      <td>SP</td>\n",
       "      <td>0</td>\n",
       "    </tr>\n",
       "    <tr>\n",
       "      <th>41</th>\n",
       "      <td>SR</td>\n",
       "      <td>0</td>\n",
       "    </tr>\n",
       "    <tr>\n",
       "      <th>42</th>\n",
       "      <td>SS</td>\n",
       "      <td>0</td>\n",
       "    </tr>\n",
       "    <tr>\n",
       "      <th>43</th>\n",
       "      <td>TA</td>\n",
       "      <td>0</td>\n",
       "    </tr>\n",
       "    <tr>\n",
       "      <th>44</th>\n",
       "      <td>UR</td>\n",
       "      <td>0</td>\n",
       "    </tr>\n",
       "    <tr>\n",
       "      <th>45</th>\n",
       "      <td>V</td>\n",
       "      <td>2</td>\n",
       "    </tr>\n",
       "    <tr>\n",
       "      <th>46</th>\n",
       "      <td>Y</td>\n",
       "      <td>0</td>\n",
       "    </tr>\n",
       "    <tr>\n",
       "      <th>47</th>\n",
       "      <td>ZN</td>\n",
       "      <td>1</td>\n",
       "    </tr>\n",
       "  </tbody>\n",
       "</table>\n",
       "</div>"
      ],
      "text/plain": [
       "   symbol target\n",
       "0       A      0\n",
       "1      AL     -2\n",
       "2      AO      0\n",
       "3      AP      0\n",
       "4       B      0\n",
       "5      BU      0\n",
       "6       C      0\n",
       "7      CF      0\n",
       "8      CS      0\n",
       "9      CY      0\n",
       "10     EB      0\n",
       "11     EG      0\n",
       "12     FG      0\n",
       "13     FU      0\n",
       "14     HC      1\n",
       "15      I      0\n",
       "16      J      1\n",
       "17     JD      0\n",
       "18     JM     -3\n",
       "19      L      0\n",
       "20     LG      0\n",
       "21     LH      0\n",
       "22     LU      0\n",
       "23      M      0\n",
       "24     MA      0\n",
       "25     NI     -1\n",
       "26     OI      0\n",
       "27      P      0\n",
       "28     PF      0\n",
       "29     PG      0\n",
       "30     PK      0\n",
       "31     PP      0\n",
       "32     PR      0\n",
       "33     PX      0\n",
       "34     RB     -6\n",
       "35     RM      0\n",
       "36     RU      0\n",
       "37     SA      0\n",
       "38     SF      0\n",
       "39     SM      0\n",
       "40     SP      0\n",
       "41     SR      0\n",
       "42     SS      0\n",
       "43     TA      0\n",
       "44     UR      0\n",
       "45      V      2\n",
       "46      Y      0\n",
       "47     ZN      1"
      ]
     },
     "execution_count": 12,
     "metadata": {},
     "output_type": "execute_result"
    }
   ],
   "source": [
    "rebal_tar"
   ]
  },
  {
   "cell_type": "code",
   "execution_count": null,
   "metadata": {},
   "outputs": [],
   "source": []
  },
  {
   "cell_type": "code",
   "execution_count": null,
   "metadata": {},
   "outputs": [],
   "source": []
  },
  {
   "cell_type": "code",
   "execution_count": null,
   "metadata": {},
   "outputs": [],
   "source": []
  },
  {
   "cell_type": "code",
   "execution_count": 14,
   "metadata": {},
   "outputs": [],
   "source": [
    "to_trade_df['target'] = pd.to_numeric(to_trade_df['target'])"
   ]
  },
  {
   "cell_type": "code",
   "execution_count": 15,
   "metadata": {},
   "outputs": [],
   "source": [
    "ans = pos_data[['symbol','pos']].set_index('symbol').join(to_trade_df.set_index('symbol_y'),how='outer')"
   ]
  },
  {
   "cell_type": "code",
   "execution_count": 17,
   "metadata": {},
   "outputs": [
    {
     "data": {
      "text/plain": [
       "Index(['AP501.CZCE', 'AP501.CZCE', 'CF501.CZCE', 'CF501.CZCE', 'CY503.CZCE',\n",
       "       'CY503.CZCE', 'FG501.CZCE', 'FG501.CZCE', 'MA501.CZCE', 'MA501.CZCE',\n",
       "       'OI501.CZCE', 'OI501.CZCE', 'PF502.CZCE', 'PF502.CZCE', 'PK501.CZCE',\n",
       "       'PK501.CZCE', 'PR503.CZCE', 'PR503.CZCE', 'PX501.CZCE', 'PX501.CZCE',\n",
       "       'RM501.CZCE', 'RM501.CZCE', 'SA501.CZCE', 'SA501.CZCE', 'SF501.CZCE',\n",
       "       'SF501.CZCE', 'SM501.CZCE', 'SM501.CZCE', 'SR501.CZCE', 'SR501.CZCE',\n",
       "       'TA501.CZCE', 'TA501.CZCE', 'UR501.CZCE', 'UR501.CZCE', 'a2501.DCE',\n",
       "       'a2501.DCE', 'al2501.SHFE', 'al2501.SHFE', 'ao2501.SHFE', 'ao2501.SHFE',\n",
       "       'b2501.DCE', 'b2501.DCE', 'bu2501.SHFE', 'bu2501.SHFE', 'c2501.DCE',\n",
       "       'c2501.DCE', 'cs2501.DCE', 'cs2501.DCE', 'eb2412.DCE', 'eb2412.DCE',\n",
       "       'eg2501.DCE', 'eg2501.DCE', 'fu2501.SHFE', 'fu2501.SHFE', 'hc2501.SHFE',\n",
       "       'hc2501.SHFE', 'i2501.DCE', 'i2501.DCE', 'j2501.DCE', 'j2501.DCE',\n",
       "       'jd2501.DCE', 'jd2501.DCE', 'jm2501.DCE', 'jm2501.DCE', 'l2501.DCE',\n",
       "       'l2501.DCE', 'lh2501.DCE', 'lh2501.DCE', 'lu2502.INE', 'lu2502.INE',\n",
       "       'm2505.DCE', 'm2505.DCE', 'ni2412.SHFE', 'ni2412.SHFE', 'p2501.DCE',\n",
       "       'p2501.DCE', 'pg2412.DCE', 'pg2412.DCE', 'pp2501.DCE', 'pp2501.DCE',\n",
       "       'rb2501.SHFE', 'rb2501.SHFE', 'ru2501.SHFE', 'ru2501.SHFE',\n",
       "       'sp2501.SHFE', 'sp2501.SHFE', 'ss2501.SHFE', 'ss2501.SHFE', 'v2501.DCE',\n",
       "       'v2501.DCE', 'y2501.DCE', 'y2501.DCE', 'zn2412.SHFE', 'zn2412.SHFE'],\n",
       "      dtype='object', name='symbol')"
      ]
     },
     "execution_count": 17,
     "metadata": {},
     "output_type": "execute_result"
    }
   ],
   "source": [
    "ans.index"
   ]
  },
  {
   "cell_type": "code",
   "execution_count": 18,
   "metadata": {},
   "outputs": [
    {
     "data": {
      "text/plain": [
       "True"
      ]
     },
     "execution_count": 18,
     "metadata": {},
     "output_type": "execute_result"
    }
   ],
   "source": [
    "set(pd.Series(list(set(pos_data['symbol'].values.tolist()) | set(to_trade_df['symbol_y'].values.tolist()))).str.strip().values.tolist()) == set(ans.index)"
   ]
  },
  {
   "cell_type": "code",
   "execution_count": 21,
   "metadata": {},
   "outputs": [],
   "source": [
    "import json"
   ]
  },
  {
   "cell_type": "code",
   "execution_count": 33,
   "metadata": {},
   "outputs": [
    {
     "data": {
      "text/plain": [
       "'2024-09-23 14:31:16.126480'"
      ]
     },
     "execution_count": 33,
     "metadata": {},
     "output_type": "execute_result"
    }
   ],
   "source": [
    "str(datetime.now())"
   ]
  },
  {
   "cell_type": "code",
   "execution_count": 11,
   "metadata": {},
   "outputs": [
    {
     "data": {
      "text/html": [
       "<div>\n",
       "<style scoped>\n",
       "    .dataframe tbody tr th:only-of-type {\n",
       "        vertical-align: middle;\n",
       "    }\n",
       "\n",
       "    .dataframe tbody tr th {\n",
       "        vertical-align: top;\n",
       "    }\n",
       "\n",
       "    .dataframe thead th {\n",
       "        text-align: right;\n",
       "    }\n",
       "</style>\n",
       "<table border=\"1\" class=\"dataframe\">\n",
       "  <thead>\n",
       "    <tr style=\"text-align: right;\">\n",
       "      <th></th>\n",
       "      <th>symbol_x</th>\n",
       "      <th>symb</th>\n",
       "      <th>rqsymbol</th>\n",
       "      <th>symbol_y</th>\n",
       "    </tr>\n",
       "  </thead>\n",
       "  <tbody>\n",
       "    <tr>\n",
       "      <th>0</th>\n",
       "      <td>A</td>\n",
       "      <td>A2501</td>\n",
       "      <td>A2501</td>\n",
       "      <td>a2501.DCE</td>\n",
       "    </tr>\n",
       "    <tr>\n",
       "      <th>1</th>\n",
       "      <td>AL</td>\n",
       "      <td>AL2411</td>\n",
       "      <td>AL2411</td>\n",
       "      <td>al2411.SHFE</td>\n",
       "    </tr>\n",
       "    <tr>\n",
       "      <th>2</th>\n",
       "      <td>AO</td>\n",
       "      <td>AO2411</td>\n",
       "      <td>AO2411</td>\n",
       "      <td>ao2411.SHFE</td>\n",
       "    </tr>\n",
       "    <tr>\n",
       "      <th>3</th>\n",
       "      <td>AP</td>\n",
       "      <td>AP2501</td>\n",
       "      <td>AP2501</td>\n",
       "      <td>AP501.CZCE</td>\n",
       "    </tr>\n",
       "    <tr>\n",
       "      <th>4</th>\n",
       "      <td>B</td>\n",
       "      <td>B2411</td>\n",
       "      <td>B2411</td>\n",
       "      <td>b2411.DCE</td>\n",
       "    </tr>\n",
       "    <tr>\n",
       "      <th>...</th>\n",
       "      <td>...</td>\n",
       "      <td>...</td>\n",
       "      <td>...</td>\n",
       "      <td>...</td>\n",
       "    </tr>\n",
       "    <tr>\n",
       "      <th>62</th>\n",
       "      <td>WH</td>\n",
       "      <td>WH2411</td>\n",
       "      <td>WH2411</td>\n",
       "      <td>WH411.CZCE</td>\n",
       "    </tr>\n",
       "    <tr>\n",
       "      <th>63</th>\n",
       "      <td>WR</td>\n",
       "      <td>WR2410</td>\n",
       "      <td>WR2410</td>\n",
       "      <td>wr2410.SHFE</td>\n",
       "    </tr>\n",
       "    <tr>\n",
       "      <th>64</th>\n",
       "      <td>Y</td>\n",
       "      <td>Y2501</td>\n",
       "      <td>Y2501</td>\n",
       "      <td>y2501.DCE</td>\n",
       "    </tr>\n",
       "    <tr>\n",
       "      <th>65</th>\n",
       "      <td>ZC</td>\n",
       "      <td>ZC2410</td>\n",
       "      <td>ZC2410</td>\n",
       "      <td>ZC410.CZCE</td>\n",
       "    </tr>\n",
       "    <tr>\n",
       "      <th>66</th>\n",
       "      <td>ZN</td>\n",
       "      <td>ZN2411</td>\n",
       "      <td>ZN2411</td>\n",
       "      <td>zn2411.SHFE</td>\n",
       "    </tr>\n",
       "  </tbody>\n",
       "</table>\n",
       "<p>67 rows × 4 columns</p>\n",
       "</div>"
      ],
      "text/plain": [
       "   symbol_x    symb rqsymbol     symbol_y\n",
       "0         A   A2501    A2501    a2501.DCE\n",
       "1        AL  AL2411   AL2411  al2411.SHFE\n",
       "2        AO  AO2411   AO2411  ao2411.SHFE\n",
       "3        AP  AP2501   AP2501   AP501.CZCE\n",
       "4         B   B2411    B2411    b2411.DCE\n",
       "..      ...     ...      ...          ...\n",
       "62       WH  WH2411   WH2411   WH411.CZCE\n",
       "63       WR  WR2410   WR2410  wr2410.SHFE\n",
       "64        Y   Y2501    Y2501    y2501.DCE\n",
       "65       ZC  ZC2410   ZC2410   ZC410.CZCE\n",
       "66       ZN  ZN2411   ZN2411  zn2411.SHFE\n",
       "\n",
       "[67 rows x 4 columns]"
      ]
     },
     "execution_count": 11,
     "metadata": {},
     "output_type": "execute_result"
    }
   ],
   "source": [
    "pd.concat([pd.Series(trading_schedule['symbol'].values[0].split(',')).str[:-4],\n",
    "                            pd.Series(trading_schedule['symbol'].values[0].split(','))],axis=1,keys=['symbol','symb']\n",
    "                        ).merge(trading_hours[['rqsymbol','symbol']],left_on='symb',right_on='rqsymbol',how='inner'\n",
    "                                )"
   ]
  },
  {
   "cell_type": "code",
   "execution_count": 12,
   "metadata": {},
   "outputs": [
    {
     "data": {
      "text/html": [
       "<div>\n",
       "<style scoped>\n",
       "    .dataframe tbody tr th:only-of-type {\n",
       "        vertical-align: middle;\n",
       "    }\n",
       "\n",
       "    .dataframe tbody tr th {\n",
       "        vertical-align: top;\n",
       "    }\n",
       "\n",
       "    .dataframe thead th {\n",
       "        text-align: right;\n",
       "    }\n",
       "</style>\n",
       "<table border=\"1\" class=\"dataframe\">\n",
       "  <thead>\n",
       "    <tr style=\"text-align: right;\">\n",
       "      <th></th>\n",
       "      <th>pre</th>\n",
       "      <th>post</th>\n",
       "    </tr>\n",
       "  </thead>\n",
       "  <tbody>\n",
       "  </tbody>\n",
       "</table>\n",
       "</div>"
      ],
      "text/plain": [
       "Empty DataFrame\n",
       "Columns: [pre, post]\n",
       "Index: []"
      ]
     },
     "execution_count": 12,
     "metadata": {},
     "output_type": "execute_result"
    }
   ],
   "source": [
    "rollover_df.query('pre!=post')"
   ]
  },
  {
   "cell_type": "code",
   "execution_count": 5,
   "metadata": {},
   "outputs": [],
   "source": []
  },
  {
   "cell_type": "code",
   "execution_count": 10,
   "metadata": {},
   "outputs": [],
   "source": [
    "rollover_df = pd.concat([pd.Series(previous_trading_schedule['symbol'].values[0].split(',')),\n",
    "                 pd.Series(trading_schedule['symbol'].values[0].split(','))],axis=1,keys=['pre','post'])"
   ]
  },
  {
   "cell_type": "code",
   "execution_count": 20,
   "metadata": {},
   "outputs": [
    {
     "data": {
      "text/html": [
       "<div>\n",
       "<style scoped>\n",
       "    .dataframe tbody tr th:only-of-type {\n",
       "        vertical-align: middle;\n",
       "    }\n",
       "\n",
       "    .dataframe tbody tr th {\n",
       "        vertical-align: top;\n",
       "    }\n",
       "\n",
       "    .dataframe thead th {\n",
       "        text-align: right;\n",
       "    }\n",
       "</style>\n",
       "<table border=\"1\" class=\"dataframe\">\n",
       "  <thead>\n",
       "    <tr style=\"text-align: right;\">\n",
       "      <th></th>\n",
       "      <th>pre</th>\n",
       "      <th>post</th>\n",
       "    </tr>\n",
       "  </thead>\n",
       "  <tbody>\n",
       "    <tr>\n",
       "      <th>63</th>\n",
       "      <td>WR2409</td>\n",
       "      <td>wr2410.SHFE</td>\n",
       "    </tr>\n",
       "  </tbody>\n",
       "</table>\n",
       "</div>"
      ],
      "text/plain": [
       "       pre         post\n",
       "63  WR2409  wr2410.SHFE"
      ]
     },
     "execution_count": 20,
     "metadata": {},
     "output_type": "execute_result"
    }
   ],
   "source": [
    "rollover_df.query(\"pre!=post\").replace(trading_hours[['rqsymbol','symbol']].set_index('rqsymbol').to_dict()['symbol'])"
   ]
  },
  {
   "cell_type": "code",
   "execution_count": 19,
   "metadata": {},
   "outputs": [
    {
     "data": {
      "text/html": [
       "<div>\n",
       "<style scoped>\n",
       "    .dataframe tbody tr th:only-of-type {\n",
       "        vertical-align: middle;\n",
       "    }\n",
       "\n",
       "    .dataframe tbody tr th {\n",
       "        vertical-align: top;\n",
       "    }\n",
       "\n",
       "    .dataframe thead th {\n",
       "        text-align: right;\n",
       "    }\n",
       "</style>\n",
       "<table border=\"1\" class=\"dataframe\">\n",
       "  <thead>\n",
       "    <tr style=\"text-align: right;\">\n",
       "      <th></th>\n",
       "      <th>pre</th>\n",
       "      <th>post</th>\n",
       "    </tr>\n",
       "  </thead>\n",
       "  <tbody>\n",
       "    <tr>\n",
       "      <th>63</th>\n",
       "      <td>WR2409</td>\n",
       "      <td>WR2410</td>\n",
       "    </tr>\n",
       "  </tbody>\n",
       "</table>\n",
       "</div>"
      ],
      "text/plain": [
       "       pre    post\n",
       "63  WR2409  WR2410"
      ]
     },
     "execution_count": 19,
     "metadata": {},
     "output_type": "execute_result"
    }
   ],
   "source": [
    "rollover_df.query(\"pre!=post\").map(lambda x: len(str(x)))"
   ]
  },
  {
   "cell_type": "code",
   "execution_count": 15,
   "metadata": {},
   "outputs": [
    {
     "data": {
      "text/plain": [
       "{'A2501': 'a2501.DCE',\n",
       " 'AG2412': 'ag2412.SHFE',\n",
       " 'AL2411': 'al2411.SHFE',\n",
       " 'AO2411': 'ao2411.SHFE',\n",
       " 'AP2501': 'AP501.CZCE',\n",
       " 'AU2412': 'au2412.SHFE',\n",
       " 'B2411': 'b2411.DCE',\n",
       " 'BB2501': 'bb2501.DCE',\n",
       " 'BC2411': 'bc2411.INE',\n",
       " 'BR2411': 'br2411.SHFE',\n",
       " 'BU2411': 'bu2411.SHFE',\n",
       " 'C2411': 'c2411.DCE',\n",
       " 'CF2501': 'CF501.CZCE',\n",
       " 'CJ2501': 'CJ501.CZCE',\n",
       " 'CS2411': 'cs2411.DCE',\n",
       " 'CU2410': 'cu2410.SHFE',\n",
       " 'CY2501': 'CY501.CZCE',\n",
       " 'EB2411': 'eb2411.DCE',\n",
       " 'EC2412': 'ec2412.INE',\n",
       " 'EG2501': 'eg2501.DCE',\n",
       " 'FB2501': 'fb2501.DCE',\n",
       " 'FG2501': 'FG501.CZCE',\n",
       " 'FU2411': 'fu2411.SHFE',\n",
       " 'HC2501': 'hc2501.SHFE',\n",
       " 'I2501': 'i2501.DCE',\n",
       " 'IC2410': 'IC2410.CFFEX',\n",
       " 'IF2410': 'IF2410.CFFEX',\n",
       " 'IH2410': 'IH2410.CFFEX',\n",
       " 'IM2410': 'IM2410.CFFEX',\n",
       " 'J2501': 'j2501.DCE',\n",
       " 'JD2501': 'jd2501.DCE',\n",
       " 'JM2501': 'jm2501.DCE',\n",
       " 'JR2411': 'JR411.CZCE',\n",
       " 'L2501': 'l2501.DCE',\n",
       " 'LC2411': 'lc2411.GFEX',\n",
       " 'LH2411': 'lh2411.DCE',\n",
       " 'LR2411': 'LR411.CZCE',\n",
       " 'LU2412': 'lu2412.INE',\n",
       " 'M2501': 'm2501.DCE',\n",
       " 'MA2501': 'MA501.CZCE',\n",
       " 'NI2410': 'ni2410.SHFE',\n",
       " 'NR2411': 'nr2411.INE',\n",
       " 'OI2501': 'OI501.CZCE',\n",
       " 'P2501': 'p2501.DCE',\n",
       " 'PB2410': 'pb2410.SHFE',\n",
       " 'PF2411': 'PF411.CZCE',\n",
       " 'PG2411': 'pg2411.DCE',\n",
       " 'PK2411': 'PK411.CZCE',\n",
       " 'PM2411': 'PM411.CZCE',\n",
       " 'PP2501': 'pp2501.DCE',\n",
       " 'PR2503': 'PR503.CZCE',\n",
       " 'PX2501': 'PX501.CZCE',\n",
       " 'RB2501': 'rb2501.SHFE',\n",
       " 'RI2411': 'RI411.CZCE',\n",
       " 'RM2501': 'RM501.CZCE',\n",
       " 'RR2411': 'rr2411.DCE',\n",
       " 'RS2411': 'RS411.CZCE',\n",
       " 'RU2501': 'ru2501.SHFE',\n",
       " 'SA2501': 'SA501.CZCE',\n",
       " 'SC2411': 'sc2411.INE',\n",
       " 'SF2501': 'SF501.CZCE',\n",
       " 'SH2501': 'SH501.CZCE',\n",
       " 'SI2411': 'si2411.GFEX',\n",
       " 'SM2501': 'SM501.CZCE',\n",
       " 'SN2410': 'sn2410.SHFE',\n",
       " 'SP2501': 'sp2501.SHFE',\n",
       " 'SR2501': 'SR501.CZCE',\n",
       " 'SS2411': 'ss2411.SHFE',\n",
       " 'T2412': 'T2412.CFFEX',\n",
       " 'TA2501': 'TA501.CZCE',\n",
       " 'TF2412': 'TF2412.CFFEX',\n",
       " 'TL2412': 'TL2412.CFFEX',\n",
       " 'TS2412': 'TS2412.CFFEX',\n",
       " 'UR2501': 'UR501.CZCE',\n",
       " 'V2501': 'v2501.DCE',\n",
       " 'WH2411': 'WH411.CZCE',\n",
       " 'WR2410': 'wr2410.SHFE',\n",
       " 'Y2501': 'y2501.DCE',\n",
       " 'ZC2410': 'ZC410.CZCE',\n",
       " 'ZN2411': 'zn2411.SHFE',\n",
       " 'A2503': 'a2503.DCE',\n",
       " 'AG2502': 'ag2502.SHFE',\n",
       " 'AL2412': 'al2412.SHFE',\n",
       " 'AO2412': 'ao2412.SHFE',\n",
       " 'AP2505': 'AP505.CZCE',\n",
       " 'AU2502': 'au2502.SHFE',\n",
       " 'B2505': 'b2505.DCE',\n",
       " 'BB2504': 'bb2504.DCE',\n",
       " 'BC2412': 'bc2412.INE',\n",
       " 'BR2412': 'br2412.SHFE',\n",
       " 'BU2501': 'bu2501.SHFE',\n",
       " 'C2501': 'c2501.DCE',\n",
       " 'CF2505': 'CF505.CZCE',\n",
       " 'CJ2505': 'CJ505.CZCE',\n",
       " 'CS2501': 'cs2501.DCE',\n",
       " 'CU2411': 'cu2411.SHFE',\n",
       " 'CY2505': 'CY505.CZCE',\n",
       " 'EB2412': 'eb2412.DCE',\n",
       " 'EC2502': 'ec2502.INE',\n",
       " 'EG2505': 'eg2505.DCE',\n",
       " 'FB2502': 'fb2502.DCE',\n",
       " 'FG2505': 'FG505.CZCE',\n",
       " 'FU2503': 'fu2503.SHFE',\n",
       " 'HC2503': 'hc2503.SHFE',\n",
       " 'I2505': 'i2505.DCE',\n",
       " 'J2505': 'j2505.DCE',\n",
       " 'JD2502': 'jd2502.DCE',\n",
       " 'JM2505': 'jm2505.DCE',\n",
       " 'JR2501': 'JR501.CZCE',\n",
       " 'L2505': 'l2505.DCE',\n",
       " 'LC2501': 'lc2501.GFEX',\n",
       " 'LH2501': 'lh2501.DCE',\n",
       " 'LR2501': 'LR501.CZCE',\n",
       " 'LU2501': 'lu2501.INE',\n",
       " 'M2505': 'm2505.DCE',\n",
       " 'MA2505': 'MA505.CZCE',\n",
       " 'NI2411': 'ni2411.SHFE',\n",
       " 'NR2412': 'nr2412.INE',\n",
       " 'OI2505': 'OI505.CZCE',\n",
       " 'P2505': 'p2505.DCE',\n",
       " 'PB2411': 'pb2411.SHFE',\n",
       " 'PF2412': 'PF412.CZCE',\n",
       " 'PG2412': 'pg2412.DCE',\n",
       " 'PK2501': 'PK501.CZCE',\n",
       " 'PM2501': 'PM501.CZCE',\n",
       " 'PP2505': 'pp2505.DCE',\n",
       " 'PR2505': 'PR505.CZCE',\n",
       " 'PX2505': 'PX505.CZCE',\n",
       " 'RB2503': 'rb2503.SHFE',\n",
       " 'RI2501': 'RI501.CZCE',\n",
       " 'RM2505': 'RM505.CZCE',\n",
       " 'RR2412': 'rr2412.DCE',\n",
       " 'RS2508': 'RS508.CZCE',\n",
       " 'RU2505': 'ru2505.SHFE',\n",
       " 'SA2505': 'SA505.CZCE',\n",
       " 'SC2412': 'sc2412.INE',\n",
       " 'SF2505': 'SF505.CZCE',\n",
       " 'SH2505': 'SH505.CZCE',\n",
       " 'SI2501': 'si2501.GFEX',\n",
       " 'SM2505': 'SM505.CZCE',\n",
       " 'SN2411': 'sn2411.SHFE',\n",
       " 'SP2503': 'sp2503.SHFE',\n",
       " 'SR2505': 'SR505.CZCE',\n",
       " 'SS2412': 'ss2412.SHFE',\n",
       " 'T2503': 'T2503.CFFEX',\n",
       " 'TA2505': 'TA505.CZCE',\n",
       " 'TF2503': 'TF2503.CFFEX',\n",
       " 'TL2503': 'TL2503.CFFEX',\n",
       " 'TS2503': 'TS2503.CFFEX',\n",
       " 'UR2505': 'UR505.CZCE',\n",
       " 'V2505': 'v2505.DCE',\n",
       " 'WH2501': 'WH501.CZCE',\n",
       " 'WR2503': 'wr2503.SHFE',\n",
       " 'Y2505': 'y2505.DCE',\n",
       " 'ZC2411': 'ZC411.CZCE',\n",
       " 'ZN2412': 'zn2412.SHFE'}"
      ]
     },
     "execution_count": 15,
     "metadata": {},
     "output_type": "execute_result"
    }
   ],
   "source": [
    "trading_hours[['rqsymbol','symbol']].set_index('rqsymbol').to_dict()['symbol']"
   ]
  },
  {
   "cell_type": "code",
   "execution_count": null,
   "metadata": {},
   "outputs": [],
   "source": []
  }
 ],
 "metadata": {
  "kernelspec": {
   "display_name": "Python 3",
   "language": "python",
   "name": "python3"
  },
  "language_info": {
   "codemirror_mode": {
    "name": "ipython",
    "version": 3
   },
   "file_extension": ".py",
   "mimetype": "text/x-python",
   "name": "python",
   "nbconvert_exporter": "python",
   "pygments_lexer": "ipython3",
   "version": "3.10.9"
  }
 },
 "nbformat": 4,
 "nbformat_minor": 2
}
